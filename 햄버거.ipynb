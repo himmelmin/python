{
  "nbformat": 4,
  "nbformat_minor": 0,
  "metadata": {
    "colab": {
      "provenance": [],
      "authorship_tag": "ABX9TyPDUHrUmIAMQNqc/yxZgShp",
      "include_colab_link": true
    },
    "kernelspec": {
      "name": "python3",
      "display_name": "Python 3"
    },
    "language_info": {
      "name": "python"
    }
  },
  "cells": [
    {
      "cell_type": "markdown",
      "metadata": {
        "id": "view-in-github",
        "colab_type": "text"
      },
      "source": [
        "<a href=\"https://colab.research.google.com/github/himmelmin/python/blob/main/%ED%96%84%EB%B2%84%EA%B1%B0.ipynb\" target=\"_parent\"><img src=\"https://colab.research.google.com/assets/colab-badge.svg\" alt=\"Open In Colab\"/></a>"
      ]
    },
    {
      "cell_type": "markdown",
      "source": [
        "#햄버거값 계산(1)\n",
        "- 직원 : 햄버거 몇개 주문하시겠습니까?  손님 : 3개요\n",
        "- (계산) : 3 * 5000\n",
        "- 직원 : 15000원입니다."
      ],
      "metadata": {
        "id": "nZZ3I6_F5FKs"
      }
    },
    {
      "cell_type": "code",
      "execution_count": null,
      "metadata": {
        "colab": {
          "base_uri": "https://localhost:8080/"
        },
        "id": "MmTxKabNehwW",
        "outputId": "6906d100-1a88-44a8-8395-68b7b71a2826"
      },
      "outputs": [
        {
          "output_type": "stream",
          "name": "stdout",
          "text": [
            "몇개를 주문하시겠습니까? 2\n",
            "10000\n",
            "10000원입니다\n"
          ]
        }
      ],
      "source": [
        "a = int(input('몇개를 주문하시겠습니까? '))\n",
        "price = a * 5000\n",
        "print(price)\n",
        "print('%d원입니다' %(price))"
      ]
    },
    {
      "cell_type": "code",
      "source": [
        "print('어서오세요')\n",
        "\n",
        "a = input('무엇을 주문하시겠습니까? ')\n",
        "b = int(input('몇줄 주문하시겠습니까? '))\n",
        "\n",
        "if a == '불고기버거':\n",
        "  price = b * 4500\n",
        "elif a == '싸이버거':\n",
        "  price = b * 4000\n",
        "elif a == '치즈버거':\n",
        "  price = b * 3000\n",
        "\n",
        "\n",
        "else:\n",
        "  print('판매하지 않는 메뉴입니다')\n",
        "\n",
        "print(price)\n"
      ],
      "metadata": {
        "colab": {
          "base_uri": "https://localhost:8080/"
        },
        "id": "JKAYnqcQyMqT",
        "outputId": "22769713-1db7-4653-bc2e-d13dfe85744e"
      },
      "execution_count": null,
      "outputs": [
        {
          "output_type": "stream",
          "name": "stdout",
          "text": [
            "어서오세요\n",
            "무엇을 주문하시겠습니까? 불고기버거\n",
            "몇줄 주문하시겠습니까? 2\n",
            "9000\n"
          ]
        }
      ]
    },
    {
      "cell_type": "markdown",
      "source": [
        "#햄버거값 계산(2)\n",
        "- 직원 : 어서오세요\n",
        "- 직원 : 무엇을 주문하시겠습니까?, 손님 : 싸이버거\n",
        "- 직원 : 몇개 주문하시겠습니까? 손님 : 2개요\n",
        "- (계산)\n",
        " - 만약 싸이버거라면 4500원 곱하고\n",
        " - 만약 치즈버거라면 3000원 곱하고\n",
        " - 만약 강정버거라면 4000원 곱하라\n",
        "- 직원 : 9000원입니다 \n",
        "\n"
      ],
      "metadata": {
        "id": "Zu3CBwtX5zWg"
      }
    },
    {
      "cell_type": "code",
      "source": [
        "print('어서오세요')\n",
        "\n",
        "price = 0\n",
        "\n",
        "while True:\n",
        "  a = input('무엇을 주문하시겠습니까? ')\n",
        "  if a == '아니요':\n",
        "    break\n",
        "  n = int(input('몇개를 주문하시겠습니까? '))\n",
        "\n",
        "  if a == '싸이버거':\n",
        "    price += n * 4500\n",
        "  elif a == '치즈버거':\n",
        "    price += n * 3000\n",
        "  elif a == '강정버거':\n",
        "    price += n * 4000\n",
        "\n",
        "  else:\n",
        "    print('판매하지 않는 메뉴입니다')\n",
        "\n",
        "print(price)"
      ],
      "metadata": {
        "colab": {
          "base_uri": "https://localhost:8080/"
        },
        "id": "GCVEbCMv275X",
        "outputId": "8e1339d0-88da-4122-988f-edbf44d8c397"
      },
      "execution_count": null,
      "outputs": [
        {
          "output_type": "stream",
          "name": "stdout",
          "text": [
            "어서오세요\n",
            "무엇을 주문하시겠습니까? 싸이버거\n",
            "몇개를 주문하시겠습니까? 2\n",
            "무엇을 주문하시겠습니까? 치즈버거\n",
            "몇개를 주문하시겠습니까? 2\n",
            "무엇을 주문하시겠습니까? 라이스버거\n",
            "몇개를 주문하시겠습니까? 1\n",
            "판매하지 않는 메뉴입니다\n",
            "무엇을 주문하시겠습니까? 아니요\n",
            "15000\n"
          ]
        }
      ]
    },
    {
      "cell_type": "markdown",
      "source": [
        "#list"
      ],
      "metadata": {
        "id": "tHUO4_1X7yE-"
      }
    },
    {
      "cell_type": "code",
      "source": [
        "menu = ['싸이버거', '치즈버거', '강정버거', '와퍼', '라이스버거']\n",
        "sale = [4000, 3000, 3500, 5000, 4600]\n",
        "\n",
        "price = 0\n",
        "\n",
        "print('어서오세요')\n",
        "\n",
        "while True:\n",
        "  b = input('무엇을 주문하시겠습니까? ')\n",
        "  if b == '아니요':\n",
        "     break\n",
        "\n",
        "  n = int(input('몇개 주문하시겠습니까? '))\n",
        "\n",
        "  idx = -1\n",
        "  for i in range(len(menu)):\n",
        "    if b == menu[i]:\n",
        "      idx = i    \n",
        "      break\n",
        "\n",
        "  if idx == -1:\n",
        "    print('판매하지 않는 메뉴입니다')\n",
        "  else:\n",
        "    price += n * sale[idx]\n",
        "\n",
        "\n",
        "print(price)\n"
      ],
      "metadata": {
        "id": "pQQ0A1Iz4GsV",
        "colab": {
          "base_uri": "https://localhost:8080/"
        },
        "outputId": "98cc69b9-8006-4365-a2be-7e3c2883fa20"
      },
      "execution_count": null,
      "outputs": [
        {
          "output_type": "stream",
          "name": "stdout",
          "text": [
            "어서오세요\n",
            "무엇을 주문하시겠습니까? 싸이버거\n",
            "몇개 주문하시겠습니까? 2\n",
            "무엇을 주문하시겠습니까? 치즈버거2\n",
            "몇개 주문하시겠습니까? 2\n",
            "판매하지 않는 메뉴입니다\n",
            "무엇을 주문하시겠습니까? 치즈버거\n",
            "몇개 주문하시겠습니까? 2\n",
            "무엇을 주문하시겠습니까? 라이스버거\n",
            "몇개 주문하시겠습니까? 1\n",
            "무엇을 주문하시겠습니까? 아니요\n",
            "18600\n"
          ]
        }
      ]
    },
    {
      "cell_type": "markdown",
      "source": [
        "#dictionary"
      ],
      "metadata": {
        "id": "261e5AZE7uEO"
      }
    },
    {
      "cell_type": "code",
      "source": [
        "menu = {'싸이버거':4000, '치즈버거':3000, '강정버거':3500, '와퍼':5000, '라이스버거':4600}\n",
        "\n",
        "price = 0\n",
        "\n",
        "while True:\n",
        "  b = input('무엇을 주문하시겠습니까? ')\n",
        "  if b == '아니요': \n",
        "    break\n",
        "  if b not in menu:\n",
        "    print('판매하지 않는 메뉴입니다. ')\n",
        "    continue\n",
        "  n = int(input('몇개 주문하시겠습니까? '))\n",
        "  price = price + menu[b] * n\n",
        "\n",
        "print(price)"
      ],
      "metadata": {
        "colab": {
          "base_uri": "https://localhost:8080/"
        },
        "id": "auPajkDVuZ7s",
        "outputId": "4295ca06-8b52-432b-e29d-16f86ca14895"
      },
      "execution_count": null,
      "outputs": [
        {
          "output_type": "stream",
          "name": "stdout",
          "text": [
            "무엇을 주문하시겠습니까? 버거\n",
            "판매하지 않는 메뉴입니다. \n",
            "무엇을 주문하시겠습니까? 아니요\n",
            "0\n"
          ]
        }
      ]
    }
  ]
}
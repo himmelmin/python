{
  "nbformat": 4,
  "nbformat_minor": 0,
  "metadata": {
    "colab": {
      "provenance": [],
      "include_colab_link": true
    },
    "kernelspec": {
      "name": "python3",
      "display_name": "Python 3"
    },
    "language_info": {
      "name": "python"
    }
  },
  "cells": [
    {
      "cell_type": "markdown",
      "metadata": {
        "id": "view-in-github",
        "colab_type": "text"
      },
      "source": [
        "<a href=\"https://colab.research.google.com/github/himmelmin/python/blob/main/%EA%B9%80%EB%B0%A5.ipynb\" target=\"_parent\"><img src=\"https://colab.research.google.com/assets/colab-badge.svg\" alt=\"Open In Colab\"/></a>"
      ]
    },
    {
      "cell_type": "markdown",
      "source": [
        "#김밥값 계산(1)\n",
        "- 직원 : 김밥 몇줄 주문하시겠습니까?  손님 : 3줄요\n",
        "- (계산) : 3 * 3000\n",
        "- 직원 : 9000원입니다."
      ],
      "metadata": {
        "id": "bRzjS1c9uqdP"
      }
    },
    {
      "cell_type": "code",
      "execution_count": null,
      "metadata": {
        "colab": {
          "base_uri": "https://localhost:8080/"
        },
        "id": "NVMoelZAujpM",
        "outputId": "367947d6-8c26-4977-aa23-ec9775f67693"
      },
      "outputs": [
        {
          "output_type": "stream",
          "name": "stdout",
          "text": [
            "김밥 몇줄 주문하시겠습니까? 6\n",
            "18000\n",
            "18000원입니다\n"
          ]
        }
      ],
      "source": [
        "a = int(input('김밥 몇줄 주문하시겠습니까? '))\n",
        "price = a * 3000\n",
        "print(price)\n",
        "print('%d원입니다'% (price))"
      ]
    },
    {
      "cell_type": "markdown",
      "source": [
        "#김밥값 계산(2)\n",
        "- 직원 : 어서오세요\n",
        "- 직원 : 무엇을 주문하시겠습니까?, 손님 : 기본김밥\n",
        "- 직원 : 몇줄 주문하시겠습니까? 손님 : 2줄요\n",
        "- (계산)\n",
        " - 만약 기본김밥라면 2500원 곱하고\n",
        " - 만약 참치김밥라면 3500원 곱하고\n",
        " - 만약 돈가스김밥라면 4000원 곱하라\n",
        "- 직원 : 5000원입니다 "
      ],
      "metadata": {
        "id": "LAt_xSgj1Ff9"
      }
    },
    {
      "cell_type": "code",
      "source": [
        "print('어서오세요')\n",
        "a = input('무엇을 주문하시겠습니까? ')\n",
        "b = int(input('몇줄 주문하시겠습니까? '))\n",
        "\n",
        "if a == '기본김밥':\n",
        "  price = b * 2500\n",
        "elif a == '참치김밥':\n",
        "  price = b * 3500\n",
        "elif a == '돈가스김밥':\n",
        "  price = b * 4000\n",
        "else:\n",
        "  print('판매하지 않는 메뉴입니다.')\n",
        "\n",
        "print(price)"
      ],
      "metadata": {
        "colab": {
          "base_uri": "https://localhost:8080/"
        },
        "id": "nnx2G_2JveOU",
        "outputId": "5c774933-387b-4c4c-dafb-443b0a2d8aad"
      },
      "execution_count": null,
      "outputs": [
        {
          "output_type": "stream",
          "name": "stdout",
          "text": [
            "어서오세요\n",
            "무엇을 주문하시겠습니까? 기본김밥\n",
            "몇줄 주문하시겠습니까? 2\n",
            "5000\n"
          ]
        }
      ]
    },
    {
      "cell_type": "code",
      "source": [
        "print('어서오세요')\n",
        "\n",
        "price = 0\n",
        "\n",
        "while True:\n",
        "  k = input('무엇을 주문하시겠습니까? ')\n",
        "  if k == '아니요': break\n",
        "\n",
        "  n = int(input('몇줄 주문하시겠습니까? '))\n",
        "\n",
        "  if k == '기본김밥':\n",
        "    price += n*2500\n",
        "  elif k == '참치김밥':\n",
        "    price += n*3500\n",
        "  elif k == '돈가스김밥':\n",
        "    price += n*4000\n",
        "  else:\n",
        "    print('판매하지 않는 메뉴입니다')\n",
        "\n",
        "print(price)"
      ],
      "metadata": {
        "colab": {
          "base_uri": "https://localhost:8080/"
        },
        "id": "n3o2UEro3aNC",
        "outputId": "0ab4bfed-1222-419d-bd91-171a2301bd19"
      },
      "execution_count": null,
      "outputs": [
        {
          "output_type": "stream",
          "name": "stdout",
          "text": [
            "어서오세요\n",
            "무엇을 주문하시겠습니까? 기본김밥\n",
            "몇줄 주문하시겠습니까? 5\n",
            "무엇을 주문하시겠습니까? 참치김밥\n",
            "몇줄 주문하시겠습니까? 5\n",
            "무엇을 주문하시겠습니까? 돈가스김밥\n",
            "몇줄 주문하시겠습니까? 5\n",
            "무엇을 주문하시겠습니까? 아니요\n",
            "50000\n"
          ]
        }
      ]
    },
    {
      "cell_type": "markdown",
      "source": [
        "#list"
      ],
      "metadata": {
        "id": "L2djZ0ATYxvR"
      }
    },
    {
      "cell_type": "code",
      "source": [
        "menu = ['기본김밥', '참치김밥' , '돈가스김밥', '땡초김밥']\n",
        "sale = [2500, 3500, 5000, 4000]\n",
        "\n",
        "price = 0\n",
        "\n",
        "print('어서오세요')\n",
        "\n",
        "while True:\n",
        "  k = input('무엇을 주문하시겠습니까? ')\n",
        "  if k == '끝': break\n",
        "\n",
        "  n = int(input('몇줄 주문하시겠습니까? '))\n",
        "\n",
        "  a = -1\n",
        "  for i in range(len(menu)):\n",
        "    if k == menu[i]:\n",
        "      a = i\n",
        "      break\n",
        "\n",
        "  if a == -1:\n",
        "    print('판매하지 않는 메뉴입니다')\n",
        "  else:\n",
        "    price += n * sale[a]\n",
        "\n",
        "\n",
        "print(price)"
      ],
      "metadata": {
        "colab": {
          "base_uri": "https://localhost:8080/"
        },
        "id": "A0Fb-RJfCUfA",
        "outputId": "58b72eee-b613-478c-8280-f90e3e2a137e"
      },
      "execution_count": null,
      "outputs": [
        {
          "output_type": "stream",
          "name": "stdout",
          "text": [
            "어서오세요\n"
          ]
        }
      ]
    },
    {
      "cell_type": "markdown",
      "source": [
        "# dictionary"
      ],
      "metadata": {
        "id": "P3vzQ8E-Y0sN"
      }
    },
    {
      "cell_type": "code",
      "source": [
        "menu = {'기본김밥':2500, '참치김밥':3000, '돈가스김밥':5000, '땡초김밥':3500, '불고기김밥':4000, '누드김밥':3000}\n",
        "\n",
        "price = 0\n",
        "while True:\n",
        "  g = input('무엇을 주문하시겠습니까? ')\n",
        "  if g == '끝':\n",
        "    break\n",
        "  if g not in menu:\n",
        "    print('판매하지 않는 메뉴입니다.')\n",
        "    continue\n",
        "  n = int(input('몇줄 주문하시겠습니까? '))\n",
        "  price = price + menu[g] * n\n",
        "  \n",
        "print(price)"
      ],
      "metadata": {
        "colab": {
          "base_uri": "https://localhost:8080/"
        },
        "id": "-xqNBBMBNJDY",
        "outputId": "a84f56e8-d9c2-4bdb-87ca-ad9fcc04183c"
      },
      "execution_count": null,
      "outputs": [
        {
          "output_type": "stream",
          "name": "stdout",
          "text": [
            "무엇을 주문하시겠습니까? 기본김밥\n",
            "몇줄 주문하시겠습니까? 5\n",
            "무엇을 주문하시겠습니까? 참치김밥\n",
            "몇줄 주문하시겠습니까? 8\n",
            "무엇을 주문하시겠습니까? 아이스크림\n",
            "판매하지 않는 메뉴입니다.\n",
            "무엇을 주문하시겠습니까? 누드김밥\n",
            "몇줄 주문하시겠습니까? 5\n",
            "무엇을 주문하시겠습니까? 끝\n",
            "51500\n"
          ]
        }
      ]
    }
  ]
}